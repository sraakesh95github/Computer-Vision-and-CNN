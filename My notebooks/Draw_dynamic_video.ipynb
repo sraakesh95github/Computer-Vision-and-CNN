{
 "cells": [
  {
   "cell_type": "code",
   "execution_count": null,
   "metadata": {},
   "outputs": [],
   "source": [
    "import cv2\n",
    "\n",
    "## Callback function for drawing the rectangle\n",
    "def draw_rect(event, x, y, flags, param):\n",
    "    \n",
    "    global pt1, pt2, topLeft_clicked, bottomRight_clicked\n",
    "    \n",
    "    if(event == cv2.EVENT_LBUTTONDOWN):\n",
    "        \n",
    "        # Nothing has been clicked\n",
    "        if(topLeft_clicked == False):\n",
    "            topLeft_clicked = True\n",
    "            pt1 = (x,y)\n",
    "            \n",
    "        # Top left has been clicked\n",
    "        elif(bottomRight_clicked == False):\n",
    "            bottomRight_clicked = True\n",
    "            pt2 = (x,y)\n",
    "        \n",
    "        # Reset the rectangle\n",
    "        else:\n",
    "            topLeft_clicked = False\n",
    "            bottomRight_clicked = False\n",
    "            pt1 = (0,0)\n",
    "            pt2 = (0,0)\n",
    "\n",
    "## Global variables\n",
    "pt1 = (0, 0)\n",
    "pt2 = (0, 0)\n",
    "topLeft_clicked = False\n",
    "bottomRight_clicked = False\n",
    "\n",
    "## Connect to the callback\n",
    "cap = cv2.VideoCApture(0)\n",
    "           \n",
    "cv2.namedWindow('Test')\n",
    "cv2.setMouseCallback('Test', draw_rect)\n",
    "    \n",
    "while True:\n",
    "    ret, frame = cap.read()\n",
    "             \n",
    "    ## Draw the frame based on the global variables\n",
    "    if(topLeft_clicked == True):\n",
    "        # To show where the mouse has been clicked\n",
    "        cv2.circle(framme, pt1, radius = 5, color = (0,0,255), thickness = -1)\n",
    "        \n",
    "    if(topLeft_clicked & bottomRight_clicked):\n",
    "        cv2.rectangle(frame, pt1, pt2, color = (0,0,255), thickness = 3)\n",
    "        \n",
    "    cv2.imshow('frame', frame)\n",
    "             \n",
    "    if(cv2.waitKey(2) & 0xFF == ord('q')):\n",
    "        break\n",
    "             \n",
    "cap.release()\n",
    "cv2.destroyAllWindows()"
   ]
  }
 ],
 "metadata": {
  "kernelspec": {
   "display_name": "Python 3",
   "language": "python",
   "name": "python3"
  },
  "language_info": {
   "codemirror_mode": {
    "name": "ipython",
    "version": 3
   },
   "file_extension": ".py",
   "mimetype": "text/x-python",
   "name": "python",
   "nbconvert_exporter": "python",
   "pygments_lexer": "ipython3",
   "version": "3.7.6"
  }
 },
 "nbformat": 4,
 "nbformat_minor": 4
}
