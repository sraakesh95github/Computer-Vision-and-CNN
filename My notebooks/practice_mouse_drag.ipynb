{
 "cells": [
  {
   "cell_type": "code",
   "execution_count": null,
   "metadata": {},
   "outputs": [],
   "source": [
    "import cv2\n",
    "import numpy as np\n",
    "\n",
    "# Variables\n",
    "window_name = \"Mouse event\"\n",
    "# true when mouse button down and false when up\n",
    "drawing = False\n",
    "ix, iy = (-1, -1)\n",
    "\n",
    "# Function\n",
    "def draw_rect(event, x, y, flags, params):\n",
    "        global ix, iy, drawing\n",
    "        \n",
    "        if(event == cv2.EVENT_LBUTTONDOWN):\n",
    "            drawing = True\n",
    "            ix, iy = (x, y)\n",
    "        \n",
    "        elif(event = cv2.EVENT_MOUSEMOVE):\n",
    "            if(drawing == True):\n",
    "                cv2.rectangle(img, (ix, iy,), (x, y), color = (255, 0, 0), thickness = -1)\n",
    "        \n",
    "        ELIF(event == cv2.EVENT_LBUTTONUP):\n",
    "            drawing = False\n",
    "            cv2.rectangle(img, (ix, iy,), (x, y), color = (255, 0, 0), thickness = -1)\n",
    "                \n",
    "                # Canvas\n",
    "img = np.zeros((512, 512, 3))\n",
    "cv2.namedWindow(winname = window_name)\n",
    "cv2.setMouseCallback(window_name, draw_rect)\n",
    "\n",
    "# Image Display\n",
    "While True:\n",
    "    cv2.imshow(img)\n",
    "    if(cv2.waitKey(5) & 0xFF == ord('q')):\n",
    "        break\n",
    "        \n",
    "cv2.destroyAllWindows()"
   ]
  }
 ],
 "metadata": {
  "kernelspec": {
   "display_name": "Python 3",
   "language": "python",
   "name": "python3"
  },
  "language_info": {
   "codemirror_mode": {
    "name": "ipython",
    "version": 3
   },
   "file_extension": ".py",
   "mimetype": "text/x-python",
   "name": "python",
   "nbconvert_exporter": "python",
   "pygments_lexer": "ipython3",
   "version": "3.7.6"
  }
 },
 "nbformat": 4,
 "nbformat_minor": 4
}
