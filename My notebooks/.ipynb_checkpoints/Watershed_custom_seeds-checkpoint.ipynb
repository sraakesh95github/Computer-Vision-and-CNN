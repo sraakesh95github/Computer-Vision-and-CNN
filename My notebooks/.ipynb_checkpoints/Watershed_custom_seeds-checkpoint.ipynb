{
 "cells": [
  {
   "cell_type": "markdown",
   "metadata": {},
   "source": [
    "# Custom Seeds or Markers for Watershed Algo"
   ]
  },
  {
   "cell_type": "code",
   "execution_count": 22,
   "metadata": {},
   "outputs": [],
   "source": [
    "import cv2\n",
    "import numpy as np\n",
    "import matplotlib.pyplot as plt\n",
    "%matplotlib inline"
   ]
  },
  {
   "cell_type": "code",
   "execution_count": 23,
   "metadata": {},
   "outputs": [],
   "source": [
    "road = cv2.imread('../DATA/road_image.jpg')"
   ]
  },
  {
   "cell_type": "code",
   "execution_count": 24,
   "metadata": {},
   "outputs": [],
   "source": [
    "road_copy = np.copy(road)\n",
    "#plt.imshow(road_copy)"
   ]
  },
  {
   "cell_type": "code",
   "execution_count": 25,
   "metadata": {},
   "outputs": [
    {
     "name": "stdout",
     "output_type": "stream",
     "text": [
      "(600, 800)\n",
      "(600, 800, 3)\n"
     ]
    }
   ],
   "source": [
    "print(road.shape[:2])\n",
    "print(road.shape)"
   ]
  },
  {
   "cell_type": "code",
   "execution_count": 26,
   "metadata": {},
   "outputs": [],
   "source": [
    "marker_image = np.zeros(road.shape[:2], dtype=np.int32)\n",
    "segments = np.zeros(road.shape, dtype=np.uint8)"
   ]
  },
  {
   "cell_type": "code",
   "execution_count": 27,
   "metadata": {},
   "outputs": [
    {
     "name": "stdout",
     "output_type": "stream",
     "text": [
      "Color mapping for 0th index (R, G, B, Alpha): (0.12156862745098039, 0.4666666666666667, 0.7058823529411765, 1.0)\n"
     ]
    }
   ],
   "source": [
    "# Use qualitative color mapping from matplotlib color mapping\n",
    "from matplotlib import cm\n",
    "\n",
    "print(\"Color mapping for 0th index (R, G, B, Alpha): \" + str(cm.tab10(0)))"
   ]
  },
  {
   "cell_type": "code",
   "execution_count": 28,
   "metadata": {},
   "outputs": [
    {
     "name": "stdout",
     "output_type": "stream",
     "text": [
      "(31.0, 119.0, 180.0)\n"
     ]
    }
   ],
   "source": [
    "def create_rgb(i):\n",
    "    return tuple(np.array(cm.tab10(i)[:3])*255)\n",
    "    \n",
    "print(create_rgb(0))"
   ]
  },
  {
   "cell_type": "code",
   "execution_count": 31,
   "metadata": {},
   "outputs": [
    {
     "name": "stdout",
     "output_type": "stream",
     "text": [
      "[(31.0, 119.0, 180.0), (255.0, 127.0, 14.0), (44.0, 160.0, 44.0), (214.0, 39.0, 40.0), (148.0, 103.0, 189.0), (140.0, 86.0, 75.0), (227.0, 119.0, 194.0), (127.0, 127.0, 127.0), (188.0, 189.0, 34.0), (23.0, 190.0, 207.0)]\n"
     ]
    }
   ],
   "source": [
    "colors=[]\n",
    "\n",
    "for i in range(10):\n",
    "    colors.append(create_rgb(i))\n",
    "    \n",
    "print(colors)"
   ]
  },
  {
   "cell_type": "code",
   "execution_count": 35,
   "metadata": {},
   "outputs": [],
   "source": [
    "# Global variables\n",
    "\n",
    "# #Markers\n",
    "num_markers = 10 #0-9\n",
    "\n",
    "# Color choice\n",
    "current_marker = 1\n",
    "\n",
    "# Markers updated by Watershed\n",
    "markers_updated = False\n",
    "\n",
    "# Call back function\n",
    "\n",
    "def mouse_callback(event, x, y, flags, param):\n",
    "    global markers_updated\n",
    "    \n",
    "    # Marker to be passed on to the Watershed algorithm\n",
    "    if event == cv2.EVENT_LBUTTONDOWN:\n",
    "        cv2.circle(marker_image, (x,y), 10, (current_marker), -1)\n",
    "        \n",
    "        # User sees on the road image\n",
    "        cv2.circle(road_copy, (x,y), 10, colors[current_marker], -1)\n",
    "    \n",
    "    markers_updated = True\n",
    "    \n",
    "# Continuous run (While True statement)\n",
    "cv2.namedWindow('Road Image')\n",
    "# Starts the event to check whether there has been a mouse_callback on the image or not\n",
    "cv2.setMouseCallback('Road Image', mouse_callback)\n",
    "\n",
    "while True:\n",
    "    cv2.imshow('Watershed Segments', segments)\n",
    "    cv2.imshow('Road Image', road_copy)\n",
    "    \n",
    "    # Close all windows\n",
    "    k = cv2.waitKey(1)\n",
    "    if k == ord('q'):\n",
    "        break\n",
    "    \n",
    "    # Clear all the colors\n",
    "    elif k == ord('c'):\n",
    "        road_copy = road.copy()\n",
    "        \n",
    "        # Init the images to have them cleared\n",
    "        marker_image = np.zeros(road.shape[:2], dtype=np.int32)\n",
    "        segments = np.zeros(road.shape, dtype = np.uint8)\n",
    "    \n",
    "    # Update the color choice\n",
    "    # 'chr' converts the ASCII into an actual character\n",
    "    elif k > 0 and chr(k).isdigit():\n",
    "        current_marker = int(chr(k))\n",
    "        \n",
    "    # Update the markings\n",
    "    if markers_updated:\n",
    "        marker_copy = marker_image.copy()\n",
    "        cv2.watershed(road, marker_copy)\n",
    "        \n",
    "        segments = np.zeros(road.shape, dtype = np.uint8)\n",
    "        \n",
    "        for color_ind in range(num_markers):\n",
    "            \n",
    "            # Coloring the segments - NumPy call\n",
    "            segments[marker_copy == (color_ind)] = colors[color_ind]\n",
    "        \n",
    "cv2.destroyAllWindows()"
   ]
  },
  {
   "cell_type": "code",
   "execution_count": null,
   "metadata": {},
   "outputs": [],
   "source": []
  }
 ],
 "metadata": {
  "kernelspec": {
   "display_name": "Python 3",
   "language": "python",
   "name": "python3"
  },
  "language_info": {
   "codemirror_mode": {
    "name": "ipython",
    "version": 3
   },
   "file_extension": ".py",
   "mimetype": "text/x-python",
   "name": "python",
   "nbconvert_exporter": "python",
   "pygments_lexer": "ipython3",
   "version": "3.7.6"
  }
 },
 "nbformat": 4,
 "nbformat_minor": 4
}
