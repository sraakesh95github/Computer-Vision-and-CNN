{
 "cells": [
  {
   "cell_type": "code",
   "execution_count": 2,
   "metadata": {},
   "outputs": [
    {
     "name": "stdout",
     "output_type": "stream",
     "text": [
      "Wdith:640\n",
      "Height:480\n"
     ]
    },
    {
     "data": {
      "text/plain": [
       "<function destroyAllWindows>"
      ]
     },
     "execution_count": 2,
     "metadata": {},
     "output_type": "execute_result"
    }
   ],
   "source": [
    "import cv2\n",
    "import numpy as np\n",
    "\n",
    "# Grab using the default camers\n",
    "capture = cv2.VideoCapture(0)\n",
    "\n",
    "# Set the dimenstions of the image\n",
    "width = int(capture.get(cv2.CAP_PROP_FRAME_WIDTH)) # returns 1080.0p\n",
    "height = int(capture.get(cv2.CAP_PROP_FRAME_HEIGHT))\n",
    "#frame_count = int(capture.get(cv2.CAP_PROP_FRAME_COUNT))\n",
    "print(\"Wdith:\" + str(width))\n",
    "print(\"Height:\" + str(height))\n",
    "\n",
    "# Write the stream to a video file\n",
    "# fourcc encodes the video. Changes based upon the OS\n",
    "# For the fourcc codec check \"fourcc.org\"\n",
    "writer = cv2.VideoWriter(\"../Outputs/my_video.mp4\", cv2.VideoWriter_fourcc(*'DIVX'), 20, (width, height))\n",
    "\n",
    "# print(frame_count)\n",
    "\n",
    "while True:\n",
    "    ret, frame = capture.read()\n",
    "    \n",
    "    # Write the frames into an mp4 file\n",
    "    writer.write(frame)\n",
    "    \n",
    "    #img_gray = cv2.cvtColor(frame, cv2.COLOR_BGR2GRAY)\n",
    "    cv2.imshow('frame', frame)\n",
    "    if(cv2.waitKey(2) & 0xFF == ord('q')):\n",
    "        break\n",
    "    \n",
    "capture.release()\n",
    "writer.release()\n",
    "cv2.destroyAllWindows\n",
    "\n"
   ]
  },
  {
   "cell_type": "markdown",
   "metadata": {},
   "source": [
    "### Drawing on videos"
   ]
  },
  {
   "cell_type": "code",
   "execution_count": null,
   "metadata": {},
   "outputs": [],
   "source": [
    "import cv2\n",
    "\n",
    "cap = cv2.VideoCapture(0)\n",
    "\n",
    "width = int(cap.get(cv2.CAP_PROP_FRAME_WIDTH)\n",
    "height = int(cap.get(cv2.CAP_PROP_FRAME_HEIGHT)\n",
    "             \n",
    "x = width // 2\n",
    "y = height // 2\n",
    "             \n",
    "w = width // 4\n",
    "h = height // 4\n",
    "             \n",
    "# Bottom right\n",
    "             \n",
    "while True:\n",
    "    ret, frame = cap.read()\n",
    "             \n",
    "    cv2.rectangle(frame, (x,y), (x+w, h+h), color = (0,255,0), thickness = 4)\n",
    "    \n",
    "    cv2.imshow(frame)\n",
    "             \n",
    "    if(cv2.waitKey() & 0xFF == ord('q')):\n",
    "        break\n",
    "             \n",
    "cap.release()\n",
    "cv2.destroyAllWindows()"
   ]
  },
  {
   "cell_type": "code",
   "execution_count": null,
   "metadata": {},
   "outputs": [],
   "source": []
  }
 ],
 "metadata": {
  "kernelspec": {
   "display_name": "Python 3",
   "language": "python",
   "name": "python3"
  },
  "language_info": {
   "codemirror_mode": {
    "name": "ipython",
    "version": 3
   },
   "file_extension": ".py",
   "mimetype": "text/x-python",
   "name": "python",
   "nbconvert_exporter": "python",
   "pygments_lexer": "ipython3",
   "version": "3.7.6"
  }
 },
 "nbformat": 4,
 "nbformat_minor": 4
}
