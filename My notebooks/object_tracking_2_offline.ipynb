{
 "cells": [
  {
   "cell_type": "markdown",
   "metadata": {},
   "source": [
    "# Lucas Kanade Method"
   ]
  },
  {
   "cell_type": "code",
   "execution_count": 1,
   "metadata": {},
   "outputs": [],
   "source": [
    "import cv2\n",
    "import numpy as np\n",
    "import matplotlib.pyplot as plt\n",
    "%matplotlib inline"
   ]
  },
  {
   "cell_type": "code",
   "execution_count": 2,
   "metadata": {},
   "outputs": [],
   "source": [
    "# Detect the corners of the object to get the points to be tracked\n",
    "\n",
    "# Set the params for the corner detection\n",
    "corner_track_params = dict(maxCorners=10, qualityLevel=0.3, minDistance=7, blockSize=7)\n",
    "\n",
    "# Setup the Lucas Kanade params\n",
    "# Smaller windows - more sensitive to noise ; miss on larger motions\n",
    "# Larger windows - smaller motion of points may not be detected\n",
    "# maxLevel - Pyramid for image processing ; Change in the resolution of the image l Eg : maxLevel 2 has a resolution 1/4 the resolution of the original image\n",
    "# Term criteria epsilon EPS from paper - Here 0.03 - Smaller epsilon means less time required for completion\n",
    "# Term criteria count - max number of iterations (Here 10) ; The search for the points iterations for determined by this\n",
    "# Exchanges speed of the trackinf with the accuracy of the tracking\n",
    "lk_params = dict(winSize = (200, 200), maxLevel = 2, criteria = (cv2.TERM_CRITERIA_EPS | cv2.TERM_CRITERIA_COUNT, 10, 0.03))"
   ]
  },
  {
   "cell_type": "code",
   "execution_count": null,
   "metadata": {},
   "outputs": [],
   "source": [
    "# Get an image from a video file\n",
    "cap = cv2.VideoCapture('test.mp4')\n",
    "\n",
    "# get the previous frame from the video\n",
    "ret, prev_frame = cap.read()\n",
    "\n",
    "prev_gray = cv2.cvtColor(prev_frame, cv2.COLOR_BGR2GRAY)\n",
    "\n",
    "# Get the points to track; use the points from the corner detector\n",
    "prevPts = cv2.goodFeaturesToTrack(prev_gray, mask=None, **corner_track_params)\n",
    "\n",
    "# Create a mask with an image of zeros with the same dimensions as that of the previous frame\n",
    "mask = np.zeros_like(prev_frame)\n",
    "\n",
    "# Loop for running the video\n",
    "while True:\n",
    "    \n",
    "    # This is the current frame\n",
    "    ret, frame = cap.read()\n",
    "    \n",
    "    # Current grayscale frame\n",
    "    frame_gray = cv2.cvtColor(prev_frame, cv2.COLOR_BGR2GRAY)\n",
    "    \n",
    "    # Calculate the optical flow on the current frame wrt to the previous frame ; \"PyrLK\" refers to Pyramid Lucas Kanade\n",
    "    # None refers to the next points which is spit out by the function\n",
    "    nextPts, status, err = cv2.calcOpticalFlowPyrLK(prev_gray, frame_gray, prevPts, None, **lk_params)\n",
    "    \n",
    "    # The returned \"status\" is a vector which provides the output as '1' if the point corresponding to a particular feature has been found\n",
    "    good_new = nextPts[status == 1]\n",
    "    good_prev = prevPts[status == 1]\n",
    "    \n",
    "    for i, (new, prev) in enumerate(zip(good_new, good_prev)):\n",
    "        \n",
    "        # Calculate the x and y positions\n",
    "        x_new, y_new = new.ravel()\n",
    "        x_prev, y_prev = prev.ravel()\n",
    "        \n",
    "        # Create a mask and draw the lines ; These 10 lines connects the previous points' position to the current points' position\n",
    "        mask = cv2.line(mask, (x_new, y_new), (x_prev, y_prev), (0,255,0), 3)\n",
    "        \n",
    "        # On current frame draw a dot for the current point of tracking\n",
    "        frame = cv2.circle(frame, (x_new, y_new), 8, (0,0,255), -1)\n",
    "        \n",
    "    # Display the image\n",
    "    img = cv2.add(frame, mask)\n",
    "    cv2.imshow('Tracking', img)\n",
    "    \n",
    "    # Exit the display\n",
    "    k = cv2.waitKey(30) && 0xFF\n",
    "    if k == ord('q'):\n",
    "        break\n",
    "        \n",
    "    prev_gray = frame_gray.copy()\n",
    "    prevPts = good_new.reshape(-1,1,2)\n",
    "    \n",
    "cv2.destroyAllWindows()\n",
    "cap.release()"
   ]
  },
  {
   "cell_type": "code",
   "execution_count": null,
   "metadata": {},
   "outputs": [],
   "source": []
  },
  {
   "cell_type": "code",
   "execution_count": null,
   "metadata": {},
   "outputs": [],
   "source": []
  }
 ],
 "metadata": {
  "kernelspec": {
   "display_name": "Python 3",
   "language": "python",
   "name": "python3"
  },
  "language_info": {
   "codemirror_mode": {
    "name": "ipython",
    "version": 3
   },
   "file_extension": ".py",
   "mimetype": "text/x-python",
   "name": "python",
   "nbconvert_exporter": "python",
   "pygments_lexer": "ipython3",
   "version": "3.7.6"
  }
 },
 "nbformat": 4,
 "nbformat_minor": 4
}
